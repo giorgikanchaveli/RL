{
 "cells": [
  {
   "cell_type": "code",
   "execution_count": 1,
   "id": "9f087c05",
   "metadata": {},
   "outputs": [],
   "source": [
    "import numpy as np\n",
    "import matplotlib.pyplot as plt\n",
    "import random\n",
    "import time"
   ]
  },
  {
   "cell_type": "code",
   "execution_count": 2,
   "id": "fbeff313",
   "metadata": {},
   "outputs": [],
   "source": [
    "def simulate_boltzmann(weights):\n",
    "    return random.choices(np.arange(len(weights)), weights)[0]"
   ]
  },
  {
   "cell_type": "code",
   "execution_count": 3,
   "id": "9b3d336d",
   "metadata": {},
   "outputs": [],
   "source": [
    "class arm():\n",
    "    # we have object arm that is used to generate reward specifically. It might contain some parameters\n",
    "    \n",
    "    # for each problem, we need to write specific arm class which is child of this arm class.\n",
    "    def __init__(self):\n",
    "        \n",
    "        raise Exception(\"not implemented\")\n",
    "        \n",
    "    def pull_reward(self):\n",
    "        \n",
    "        raise Exception(\"not implemented\")\n",
    "        "
   ]
  },
  {
   "cell_type": "code",
   "execution_count": 4,
   "id": "2987b542",
   "metadata": {},
   "outputs": [],
   "source": [
    "class k_armed_bandit():\n",
    "    \n",
    "    def __init__(self, list_arms, t):\n",
    "        \n",
    "        # variables: \n",
    "        \n",
    "            # list_arms: list of k arms where each arm is object arm. arm has its own methods\n",
    "            #            for example to generate reward.\n",
    "            \n",
    "            # k is number of arms\n",
    "            \n",
    "           \n",
    "        self.k = len(list_arms)\n",
    "        self.t = t # time horizon\n",
    "        self.list_arms = list_arms\n",
    "    \n",
    "    \n",
    "    def greedy(self, show = False):\n",
    "    \n",
    "        # runs greedy apporach  \n",
    "    \n",
    "        \n",
    "        u_estimated = np.abs(np.random.normal(size = self.k)) # each arm is indexed, and for each arm we keep track\n",
    "                                                    # of estimated utility values,i.e. expected reward given that action\n",
    "        count_arms = np.zeros(self.k) # for each arm we store number of times we chose that\n",
    "                                    # arm before time t\n",
    "        rewards = np.zeros(self.t) \n",
    "        # start game \n",
    "        for iteration in range(self.t):\n",
    "            #simulate action \n",
    "            arm_chosen_index = np.argmax(u_estimated) # this is index of chosen arm\n",
    "            \n",
    "            count_arms[arm_chosen_index] += 1\n",
    "    \n",
    "            #simulate reward from chosen arm\n",
    "            new_reward = self.list_arms[arm_chosen_index].pull_reward()\n",
    "            rewards[iteration] = new_reward\n",
    "\n",
    "            #update estimated values at chosen action\n",
    "\n",
    "            step_size = 1 / count_arms[arm_chosen_index]\n",
    "            u_estimated[arm_chosen_index] += step_size * (new_reward - u_estimated[arm_chosen_index])\n",
    "        if show:\n",
    "            min_action = np.argmin(count_arms)\n",
    "            min_visits = np.min(count_arms)\n",
    "            \n",
    "            max_action = np.argmax(count_arms)\n",
    "            max_visits = np.max(count_arms)\n",
    "            print(f\"action {min_action} has minimum number of visits is {min_visits}\")\n",
    "            print(f\"action {max_action} has maximum number of visits is {max_visits}\")\n",
    "            #plt.plot(count_arms,\"o\")\n",
    "        return (u_estimated, rewards)\n",
    "        \n",
    "        \n",
    "    \n",
    "    \n",
    "    def eps_greedy(self, epsilon, show = False):\n",
    "        \n",
    "        # runs epsilon greedy approach\n",
    "        \n",
    "        \n",
    "        \n",
    "        \n",
    "        u_estimated = np.random.normal(size = self.k) # each arm is indexed, and for each arm we keep track\n",
    "                                                    # of estimated utility values,i.e. expected reward given that action\n",
    "        count_arms = np.zeros(self.k) # for each arm we store number of times we chose that\n",
    "                                    # arm before time t\n",
    "            \n",
    "        rewards = np.zeros(self.t)\n",
    "        # start game  \n",
    "        for i in range(self.t):\n",
    "            #simulate action \n",
    "            r = np.random.rand()\n",
    "\n",
    "            if r < epsilon: # with epsilon probability we choose action uniformly\n",
    "                arm_chosen_index = np.random.choice(np.arange(self.k))\n",
    "            else:\n",
    "                arm_chosen_index = np.argmax(u_estimated)\n",
    "            count_arms[arm_chosen_index] += 1\n",
    "\n",
    "\n",
    "            #simulate reward \n",
    "            new_reward = self.list_arms[arm_chosen_index].pull_reward()\n",
    "            rewards[i] = new_reward\n",
    "\n",
    "            #update estimated values at chosen action\n",
    "            step_size = 1 / count_arms[arm_chosen_index]\n",
    "            u_estimated[arm_chosen_index] += step_size * (new_reward - u_estimated[arm_chosen_index])\n",
    "            \n",
    "        if show:\n",
    "            min_action = np.argmin(count_arms)\n",
    "            min_visits = np.min(count_arms)\n",
    "            \n",
    "            max_action = np.argmax(count_arms)\n",
    "            max_visits = np.max(count_arms)\n",
    "            print(f\"action {min_action} has minimum number of visits is {min_visits}\")\n",
    "            print(f\"action {max_action} has maximum number of visits is {max_visits}\")\n",
    "        \n",
    "        return (u_estimated, rewards)\n",
    "    \n",
    "    \n",
    "    \n",
    "    def gradient_algorithm(self, show = False):\n",
    "        \n",
    "        # runs gradient based algorithm\n",
    "        # we put weights to each arm and then update them iteratively.\n",
    "        \n",
    "\n",
    "       \n",
    "        weights = np.ones(self.k) # at the begining we put uniform weights, this weights generate\n",
    "                                                # probability distribution over arms\n",
    "        probabilities = np.exp(weights)  # during iterations this is probabilities weights\n",
    "                                                    # up to normalizing constant\n",
    "        rewards = np.zeros(self.t)\n",
    "        \n",
    "        average_rewards = 0\n",
    "        count_arms = np.zeros(self.k)\n",
    "        \n",
    "        \n",
    "        \n",
    "        for i in range(self.t):\n",
    "            \n",
    "            arm_chosen_index = simulate_boltzmann(probabilities) # this function gives us integer from 1,... K according to boltzman\n",
    "                                                # probability distribution\n",
    "            \n",
    "            # simulate reward\n",
    "            \n",
    "            new_reward = self.list_arms[arm_chosen_index].pull_reward()\n",
    "            rewards[i] = new_reward\n",
    "            \n",
    "            count_arms[arm_chosen_index] += 1\n",
    "            \n",
    "            \n",
    "            # update weights, average reward, and probabilities\n",
    "            \n",
    "            weights[arm_chosen_index] += (new_reward - average_rewards) * (1 - probabilities[arm_chosen_index])\n",
    "            mask = np.full(self.k, True, dtype=bool) # we update every other action\n",
    "            mask[arm_chosen_index] = False\n",
    "            \n",
    "            weights[mask] -= (new_reward - average_rewards) * probabilities[mask]\n",
    "            probabilities = np.exp(weights)\n",
    "            average_rewards = i * average_rewards / (i + 1) + new_reward / (i + 1)\n",
    "            \n",
    "            \n",
    "        if show:\n",
    "            min_action = np.argmin(count_arms)\n",
    "            min_visits = np.min(count_arms)\n",
    "            \n",
    "            max_action = np.argmax(count_arms)\n",
    "            max_visits = np.max(count_arms)\n",
    "            print(f\"action {min_action} has minimum number of visits is {min_visits}\")\n",
    "            print(f\"action {max_action} has maximum number of visits is {max_visits}\")\n",
    "            plt.plot(count_arms,\"o\")\n",
    "        \n",
    "        \n",
    "        return (weights, rewards)\n",
    "    \n",
    "    \n",
    "    \n",
    "    \n",
    "    \n",
    "    \n",
    "    \n",
    "    \n",
    "    \n",
    "    \n",
    "    \n",
    "    \n",
    "    \n",
    "    \n",
    "    \n",
    "    \n",
    "    def macau(self, beta_list, mcmc_steps, show = False ):\n",
    "        \n",
    "        \n",
    "        # variables: \n",
    "            \n",
    "            # beta_list: list of inverse temperatures in increasing order\n",
    "            # mcmc_steps: number of times we perform steps per each temperature\n",
    "            \n",
    "         \n",
    "        # returns estimated utilites and rewards for each chosen action\n",
    "        \n",
    "        \n",
    "        u_estimated = np.random.normal(size = self.k) # each arm is indexed, and for each arm we keep track\n",
    "                                                    # of estimated utility values,i.e. expected reward given that action\n",
    "        count_arms = np.zeros(self.k) # for each arm we keep track of number of times that arm\n",
    "                                      # is chosen\n",
    "            \n",
    "        rewards = np.zeros(len(beta_list) * mcmc_steps)\n",
    "        \n",
    "        current_arm_index = np.random.randint(0, self.k) # index for the arm\n",
    "        iteration = 0 # keep track of number of times we simulate game\n",
    "        for beta in beta_list:\n",
    "            \n",
    "            accept_rate = 0.0   # acceptance rate for each beta\n",
    "            \n",
    "            for steps in range(mcmc_steps):\n",
    "                \n",
    "                # 1) optimization step\n",
    "                # propose arm\n",
    "                \n",
    "                proposed_arm_index = np.random.randint(0, self.k) # index for the arm\n",
    "                \n",
    "                # accept/reject\n",
    "                \n",
    "                if u_estimated[proposed_arm_index] >= u_estimated[current_arm_index]:\n",
    "                    # accept\n",
    "                    accept_rate += 1\n",
    "                    current_arm_index = proposed_arm_index\n",
    "                    \n",
    "                else:\n",
    "                    acceptance_prob = np.exp(beta * (u_estimated[proposed_arm_index] - u_estimated[current_arm_index]))\n",
    "                    if np.random.rand() < acceptance_prob:\n",
    "                        # accept\n",
    "                        accept_rate += 1\n",
    "                        current_arm_index = proposed_arm_index\n",
    "                    # else we reject move\n",
    "                \n",
    "                \n",
    "                # 2) update knowledge step\n",
    "                count_arms[current_arm_index] += 1\n",
    "                \n",
    "                # generate reward\n",
    "                rewards[iteration] = self.list_arms[current_arm_index].pull_reward()\n",
    "                \n",
    "                # update estimated utilities if \n",
    "                \n",
    "                step_size = 1 / count_arms[current_arm_index]\n",
    "                u_estimated[current_arm_index] +=  step_size * (rewards[iteration] - u_estimated[current_arm_index])\n",
    "                \n",
    "                    \n",
    "                iteration += 1\n",
    "            #if show:\n",
    "                #print(f\"for beta {beta} acceptance rate is : {accept_rate/mcmc_steps}\")\n",
    "        if show:\n",
    "            min_action = np.argmin(count_arms)\n",
    "            min_visits = np.min(count_arms)\n",
    "            \n",
    "            max_action = np.argmax(count_arms)\n",
    "            max_visits = np.max(count_arms)\n",
    "            print(f\"action {min_action} has minimum number of visits is {min_visits}\")\n",
    "            print(f\"action {max_action} has maximum number of visits is {max_visits}\")\n",
    "            plt.plot(count_arms,\"o\")\n",
    "        return (u_estimated, rewards)\n",
    "                \n",
    "            \n",
    "        \n",
    "    def ucb_macau(self, beta_list, mcmc_steps, c, show = False ):\n",
    "        \n",
    "        \n",
    "        # variables: \n",
    "            \n",
    "            # beta_list: list of inverse temperatures in increasing order\n",
    "            # mcmc_steps: number of times we perform steps per each temperature\n",
    "            # c : confidence parameter\n",
    "         \n",
    "        # returns estimated utilites and rewards for each chosen action\n",
    "        \n",
    "        \n",
    "        u_estimated = np.random.normal(size = self.k) # each arm is indexed, and for each arm we keep track\n",
    "                                                    # of estimated utility values,i.e. expected reward given that action\n",
    "        count_arms = np.zeros(self.k) # for each arm we keep track of number of times that arm\n",
    "                                      # is chosen\n",
    "            \n",
    "        rewards = np.zeros(len(beta_list) * mcmc_steps)\n",
    "        \n",
    "        current_arm_index = np.random.randint(0, self.k) # index for the arm\n",
    "        iteration = 0 # keep track of number of times we simulate game\n",
    "        for beta in beta_list:\n",
    "            \n",
    "            accept_rate = 0.0   # acceptance rate for each beta\n",
    "            \n",
    "            for steps in range(mcmc_steps):\n",
    "                \n",
    "                # 1) optimization step\n",
    "                # propose arm\n",
    "                \n",
    "                proposed_arm_index = np.random.randint(0, self.k) # index for the arm\n",
    "                \n",
    "                # accept/reject\n",
    "                \n",
    "                if u_estimated[proposed_arm_index] + c * np.sqrt(np.log(self.t) / (1 + count_arms[proposed_arm_index])) >= u_estimated[current_arm_index] + c * np.sqrt(np.log(self.t) / (1 + count_arms[current_arm_index])):\n",
    "                    # accept\n",
    "                    accept_rate += 1\n",
    "                    current_arm_index = proposed_arm_index\n",
    "                    \n",
    "                else:\n",
    "                    acceptance_prob = np.exp(beta * (u_estimated[proposed_arm_index] + c * np.sqrt(np.log(self.t) / (1 + count_arms[proposed_arm_index])) - u_estimated[current_arm_index] - c * np.sqrt(np.log(self.t) / (1 + count_arms[current_arm_index]))))\n",
    "                    if np.random.rand() < acceptance_prob:\n",
    "                        # accept\n",
    "                        accept_rate += 1\n",
    "                        current_arm_index = proposed_arm_index\n",
    "                    # else we reject move\n",
    "                \n",
    "                \n",
    "                # 2) update knowledge step\n",
    "                count_arms[current_arm_index] += 1\n",
    "                \n",
    "                # generate reward\n",
    "                rewards[iteration] = self.list_arms[current_arm_index].pull_reward()\n",
    "                \n",
    "                # update estimated utilities if \n",
    "                \n",
    "                step_size = 1 / count_arms[current_arm_index]\n",
    "                u_estimated[current_arm_index] +=  step_size * (rewards[iteration] - u_estimated[current_arm_index])\n",
    "                \n",
    "                    \n",
    "                iteration += 1\n",
    "            #if show:\n",
    "                #print(f\"for beta {beta} acceptance rate is : {accept_rate/mcmc_steps}\")\n",
    "        if show:\n",
    "            min_action = np.argmin(count_arms)\n",
    "            min_visits = np.min(count_arms)\n",
    "            \n",
    "            max_action = np.argmax(count_arms)\n",
    "            max_visits = np.max(count_arms)\n",
    "            print(f\"action {min_action} has minimum number of visits is {min_visits}\")\n",
    "            print(f\"action {max_action} has maximum number of visits is {max_visits}\")\n",
    "            plt.plot(count_arms,\"o\")\n",
    "        return (u_estimated, rewards)\n",
    "                \n",
    "            \n",
    "        \n",
    "    "
   ]
  },
  {
   "cell_type": "markdown",
   "id": "ae9189fc",
   "metadata": {},
   "source": [
    "# arms that have normally distributed rewards\n",
    "\n"
   ]
  },
  {
   "cell_type": "code",
   "execution_count": 5,
   "id": "d0f6c81a",
   "metadata": {},
   "outputs": [],
   "source": [
    "class normal_rewards_arm(arm):\n",
    "    \n",
    "    def __init__(self, mean, sd):\n",
    "        self.mean = mean\n",
    "        self.sd = sd\n",
    "        self.params = (mean,sd)\n",
    "        \n",
    "    def pull_reward(self):\n",
    "        \n",
    "        return np.random.normal(self.mean, self.sd)\n",
    "        "
   ]
  },
  {
   "cell_type": "code",
   "execution_count": 6,
   "id": "2ec72409",
   "metadata": {},
   "outputs": [],
   "source": [
    "k = 2000\n",
    "np.random.seed(1020)\n",
    "\n",
    "\n",
    "# for each arm mean is uniformly chosen from (0,2) and sd is uniformly chosen from (1,2)\n",
    "parameters = np.column_stack((20 * np.random.rand(k), np.random.rand(k) + 0.5))\n",
    "\n",
    "list_arms = [normal_rewards_arm(mean,sd) for (mean,sd) in parameters]\n",
    "\n",
    "mcmc_steps = 5000\n",
    "beta_list = np.linspace(0, 100, 100)\n",
    "t = len(beta_list) * mcmc_steps\n",
    "\n",
    "epsilon = 0.01\n",
    "confidence = 0.1\n",
    "\n",
    "# define k armed bandit problem\n",
    "\n",
    "armed_bandit = k_armed_bandit(list_arms, t)\n",
    "\n",
    "\n",
    "u_mean = parameters[:,0]"
   ]
  },
  {
   "cell_type": "markdown",
   "id": "a621d2b0",
   "metadata": {},
   "source": [
    "# run simulated annealing algorithm"
   ]
  },
  {
   "cell_type": "code",
   "execution_count": 7,
   "id": "914193d8",
   "metadata": {
    "scrolled": true
   },
   "outputs": [
    {
     "name": "stdout",
     "output_type": "stream",
     "text": [
      "action 0 has minimum number of visits is 0.0\n",
      "action 339 has maximum number of visits is 500000.0\n",
      "time for algorithm : 4.311795949935913\n"
     ]
    }
   ],
   "source": [
    "start_time = time.time()\n",
    "u_estimated_greedy, rewards_greedy = armed_bandit.greedy(True)\n",
    "print(f\"time for algorithm : {time.time() - start_time}\")"
   ]
  },
  {
   "cell_type": "code",
   "execution_count": 8,
   "id": "57eb3f0f",
   "metadata": {
    "scrolled": true
   },
   "outputs": [
    {
     "name": "stdout",
     "output_type": "stream",
     "text": [
      "action 12 has minimum number of visits is 0.0\n",
      "action 1036 has maximum number of visits is 490652.0\n",
      "time for algorithm : 4.906010866165161\n"
     ]
    }
   ],
   "source": [
    "start_time = time.time()\n",
    "u_estimated_eps_greedy, rewards_eps_greedy = armed_bandit.eps_greedy(epsilon, True)\n",
    "print(f\"time for algorithm : {time.time() - start_time}\")"
   ]
  },
  {
   "cell_type": "code",
   "execution_count": 9,
   "id": "c2c189cd",
   "metadata": {},
   "outputs": [
    {
     "name": "stdout",
     "output_type": "stream",
     "text": [
      "action 18 has minimum number of visits is 0.0\n",
      "action 1920 has maximum number of visits is 191176.0\n",
      "time for algorithm : 6.199429750442505\n"
     ]
    },
    {
     "data": {
      "image/png": "[encoded data removed]",
      "text/plain": [
       "<Figure size 640x480 with 1 Axes>"
      ]
     },
     "metadata": {},
     "output_type": "display_data"
    }
   ],
   "source": [
    "start_time = time.time()\n",
    "u_estimated_macau, rewards_macau = armed_bandit.macau(beta_list,mcmc_steps, True)\n",
    "print(f\"time for algorithm : {time.time() - start_time}\")"
   ]
  },
  {
   "cell_type": "code",
   "execution_count": 10,
   "id": "63aa835c",
   "metadata": {},
   "outputs": [
    {
     "name": "stdout",
     "output_type": "stream",
     "text": [
      "time for algorithm : 16.67761206626892\n"
     ]
    }
   ],
   "source": [
    "start_time = time.time()\n",
    "u_estimated_ucb_macau, rewards_ucb_macau = armed_bandit.ucb_macau(beta_list,mcmc_steps, True)\n",
    "print(f\"time for algorithm : {time.time() - start_time}\")"
   ]
  },
  {
   "cell_type": "code",
   "execution_count": 11,
   "id": "97d78460",
   "metadata": {},
   "outputs": [
    {
     "name": "stdout",
     "output_type": "stream",
     "text": [
      "action 0 has minimum number of visits is 0.0\n",
      "action 1810 has maximum number of visits is 500000.0\n",
      "time for algorithm : 108.8263349533081\n"
     ]
    },
    {
     "data": {
      "image/png": "[encoded data removed]",
      "text/plain": [
       "<Figure size 640x480 with 1 Axes>"
      ]
     },
     "metadata": {},
     "output_type": "display_data"
    }
   ],
   "source": [
    "start_time = time.time()\n",
    "weights, rewards_gradient = armed_bandit.gradient_algorithm(True)\n",
    "print(f\"time for algorithm : {time.time() - start_time}\")"
   ]
  },
  {
   "cell_type": "code",
   "execution_count": 12,
   "id": "2632f167",
   "metadata": {
    "scrolled": false
   },
   "outputs": [
    {
     "data": {
      "text/plain": [
       "1920"
      ]
     },
     "execution_count": 12,
     "metadata": {},
     "output_type": "execute_result"
    }
   ],
   "source": [
    "u_mean.argmax()"
   ]
  },
  {
   "cell_type": "code",
   "execution_count": 13,
   "id": "614ecbe9",
   "metadata": {
    "scrolled": false
   },
   "outputs": [
    {
     "data": {
      "text/plain": [
       "0.014108679361903853"
      ]
     },
     "execution_count": 13,
     "metadata": {},
     "output_type": "execute_result"
    }
   ],
   "source": [
    "u_mean.min()"
   ]
  },
  {
   "cell_type": "code",
   "execution_count": 14,
   "id": "1e76d700",
   "metadata": {
    "scrolled": true
   },
   "outputs": [
    {
     "data": {
      "text/plain": [
       "-1698.5424508635947"
      ]
     },
     "execution_count": 14,
     "metadata": {},
     "output_type": "execute_result"
    }
   ],
   "source": [
    "(u_estimated_ucb_macau - u_mean).sum()"
   ]
  },
  {
   "cell_type": "code",
   "execution_count": 15,
   "id": "09ec9c57",
   "metadata": {
    "scrolled": true
   },
   "outputs": [
    {
     "data": {
      "text/plain": [
       "32.830263516861976"
      ]
     },
     "execution_count": 15,
     "metadata": {},
     "output_type": "execute_result"
    }
   ],
   "source": [
    "u_mean.var()"
   ]
  },
  {
   "cell_type": "code",
   "execution_count": 16,
   "id": "bc010139",
   "metadata": {
    "scrolled": true
   },
   "outputs": [
    {
     "data": {
      "text/plain": [
       "37.87535499251478"
      ]
     },
     "execution_count": 16,
     "metadata": {},
     "output_type": "execute_result"
    }
   ],
   "source": [
    "u_estimated_macau.var()"
   ]
  },
  {
   "cell_type": "code",
   "execution_count": 17,
   "id": "efffd904",
   "metadata": {},
   "outputs": [
    {
     "name": "stdout",
     "output_type": "stream",
     "text": [
      "regret is 12.954300028204958\n"
     ]
    }
   ],
   "source": [
    "total_rewards = rewards_greedy.sum()\n",
    "print(f\"regret is {u_mean.max()  - total_rewards / t}\")"
   ]
  },
  {
   "cell_type": "code",
   "execution_count": 18,
   "id": "2cae2821",
   "metadata": {},
   "outputs": [
    {
     "name": "stdout",
     "output_type": "stream",
     "text": [
      "regret is 0.1477342362002041\n"
     ]
    }
   ],
   "source": [
    "total_rewards = rewards_eps_greedy.sum()\n",
    "print(f\"regret is {u_mean.max()  - total_rewards / t}\")"
   ]
  },
  {
   "cell_type": "code",
   "execution_count": 19,
   "id": "72988137",
   "metadata": {
    "scrolled": true
   },
   "outputs": [
    {
     "name": "stdout",
     "output_type": "stream",
     "text": [
      "regret is 0.146560172567753\n"
     ]
    }
   ],
   "source": [
    "total_rewards = rewards_macau.sum()\n",
    "print(f\"regret is {u_mean.max()  - total_rewards / t}\")"
   ]
  },
  {
   "cell_type": "code",
   "execution_count": 20,
   "id": "7b3e4a74",
   "metadata": {},
   "outputs": [
    {
     "name": "stdout",
     "output_type": "stream",
     "text": [
      "regret is 0.17054893502976753\n"
     ]
    }
   ],
   "source": [
    "total_rewards = rewards_ucb_macau.sum()\n",
    "print(f\"regret is {u_mean.max()  - total_rewards / t}\")"
   ]
  },
  {
   "cell_type": "code",
   "execution_count": 21,
   "id": "74bd132a",
   "metadata": {},
   "outputs": [
    {
     "name": "stdout",
     "output_type": "stream",
     "text": [
      "regret is 6.022833400835422\n"
     ]
    }
   ],
   "source": [
    "total_rewards = rewards_gradient.sum()\n",
    "print(f\"regret is {u_mean.max()  - total_rewards / t}\")"
   ]
  },
  {
   "cell_type": "code",
   "execution_count": 22,
   "id": "92b16010",
   "metadata": {},
   "outputs": [],
   "source": [
    "#plt.plot(rewards_greedy.cumsum())\n",
    "#plt.plot(rewards_eps_greedy.cumsum(), color = 'black')\n",
    "#plt.plot(rewards_macau.cumsum())\n",
    "#plt.plot(rewards_ucb_macau.cumsum(), color = \"yellow\")"
   ]
  },
  {
   "cell_type": "code",
   "execution_count": null,
   "id": "72d29057",
   "metadata": {},
   "outputs": [],
   "source": []
  },
  {
   "cell_type": "code",
   "execution_count": null,
   "id": "55e2253d",
   "metadata": {},
   "outputs": [],
   "source": []
  },
  {
   "cell_type": "code",
   "execution_count": null,
   "id": "cd4dcb34",
   "metadata": {},
   "outputs": [],
   "source": []
  },
  {
   "cell_type": "code",
   "execution_count": null,
   "id": "c11c1a98",
   "metadata": {},
   "outputs": [],
   "source": []
  }
 ],
 "metadata": {
  "kernelspec": {
   "display_name": "Python 3 (ipykernel)",
   "language": "python",
   "name": "python3"
  },
  "language_info": {
   "codemirror_mode": {
    "name": "ipython",
    "version": 3
   },
   "file_extension": ".py",
   "mimetype": "text/x-python",
   "name": "python",
   "nbconvert_exporter": "python",
   "pygments_lexer": "ipython3",
   "version": "3.9.13"
  }
 },
 "nbformat": 4,
 "nbformat_minor": 5
}
