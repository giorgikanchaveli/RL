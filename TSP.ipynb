{
 "cells": [
  {
   "cell_type": "code",
   "execution_count": 1,
   "id": "702f03d0",
   "metadata": {},
   "outputs": [],
   "source": [
    "import numpy as np\n",
    "import matplotlib.pyplot as plt\n",
    "\n",
    "import time"
   ]
  },
  {
   "cell_type": "code",
   "execution_count": 21,
   "id": "ea849490",
   "metadata": {},
   "outputs": [],
   "source": [
    "def generate_d(n, max_d):\n",
    "    \n",
    "    # distances are between 1 and max_d\n",
    "    \n",
    "    d = np.random.randint(1, max_d, (n,n))\n",
    "    d = (d + d.T) / 2\n",
    "    d[np.diag_indices(n)] = 0.0\n",
    "    return d"
   ]
  },
  {
   "cell_type": "code",
   "execution_count": 36,
   "id": "ea652e18",
   "metadata": {},
   "outputs": [],
   "source": [
    "class TSP():\n",
    "    \n",
    "    def __init__(self, n, d):\n",
    "        \n",
    "        # variables: \n",
    "                # n: number of cities\n",
    "                # d: distance matrix \n",
    "        \n",
    "        self.n = n\n",
    "        self.d = d\n",
    "        \n",
    "        # initialize random route\n",
    "        self.route = np.random.permutation(n)\n",
    "        \n",
    "        \n",
    "    def cost(self):\n",
    "        \n",
    "        # computes cost of route\n",
    "        \n",
    "        c = 0.0\n",
    "        for i in range(self.n):\n",
    "            c += d[self.route[i], self.route[(i + 1)%self.n]]\n",
    "        return c\n",
    "    \n",
    "    \n",
    "    def accept_move(self, move):\n",
    "        \n",
    "        i,j = move\n",
    "        assert i < j\n",
    "        \n",
    "        self.route[i + 1: j + 1] = self.route[j:i:-1]\n",
    "        \n",
    "    def propose_move(self):\n",
    "        n = self.n\n",
    "        while True:\n",
    "            i = np.random.randint(n)\n",
    "            j = np.random.randint(n)\n",
    "            if i > j:\n",
    "                i, j = j, i\n",
    "            if abs(i - j) > 1 and not (i == 0 and j == n-1):\n",
    "                break\n",
    "        \n",
    "        return (i,j)\n",
    "    \n",
    "    def pull_reward(self, move):\n",
    "        \n",
    "        # reward is - delta cost of the move\n",
    "        n = self.n\n",
    "        i,j = move\n",
    "        route = self.route\n",
    "        new_cost = d[route[i], route[j]] + d[route[i + 1], route[(j + 1) % n]]\n",
    "        old_cost = d[route[i], route[i + 1]] + d[route[j], route[(j + 1) % n]]\n",
    "        e_1 = 2 * np.random.rand()\n",
    "        e_2 = 2 * np.random.rand()\n",
    "        \n",
    "        \n",
    "        return old_cost - new_cost + e_1 - e_2\n",
    "    \n",
    "        \n",
    "        \n",
    "        \n",
    "    def greedy(self):\n",
    "        \n",
    "        "
   ]
  },
  {
   "cell_type": "code",
   "execution_count": 32,
   "id": "2f09e6a8",
   "metadata": {},
   "outputs": [],
   "source": [
    "n = 5\n",
    "max_d = 10\n",
    "d= generate_d(n, max_d)\n",
    "\n",
    "tsp = TSP(n, d)"
   ]
  },
  {
   "cell_type": "code",
   "execution_count": 33,
   "id": "724ee2db",
   "metadata": {},
   "outputs": [
    {
     "data": {
      "text/plain": [
       "28.5"
      ]
     },
     "execution_count": 33,
     "metadata": {},
     "output_type": "execute_result"
    }
   ],
   "source": [
    "tsp.cost()"
   ]
  },
  {
   "cell_type": "code",
   "execution_count": 34,
   "id": "59cb04dd",
   "metadata": {},
   "outputs": [
    {
     "data": {
      "text/plain": [
       "array([[0. , 4. , 2.5, 6. , 6.5],\n",
       "       [4. , 0. , 5. , 3.5, 3.5],\n",
       "       [2.5, 5. , 0. , 7.5, 6.5],\n",
       "       [6. , 3.5, 7.5, 0. , 3.5],\n",
       "       [6.5, 3.5, 6.5, 3.5, 0. ]])"
      ]
     },
     "execution_count": 34,
     "metadata": {},
     "output_type": "execute_result"
    }
   ],
   "source": [
    "d"
   ]
  },
  {
   "cell_type": "code",
   "execution_count": null,
   "id": "1b365fd4",
   "metadata": {},
   "outputs": [],
   "source": []
  },
  {
   "cell_type": "code",
   "execution_count": null,
   "id": "84bae848",
   "metadata": {},
   "outputs": [],
   "source": []
  },
  {
   "cell_type": "code",
   "execution_count": null,
   "id": "d9f46a96",
   "metadata": {},
   "outputs": [],
   "source": []
  },
  {
   "cell_type": "code",
   "execution_count": null,
   "id": "c9336a83",
   "metadata": {},
   "outputs": [],
   "source": []
  },
  {
   "cell_type": "code",
   "execution_count": null,
   "id": "bdfb459c",
   "metadata": {},
   "outputs": [],
   "source": []
  }
 ],
 "metadata": {
  "kernelspec": {
   "display_name": "Python 3 (ipykernel)",
   "language": "python",
   "name": "python3"
  },
  "language_info": {
   "codemirror_mode": {
    "name": "ipython",
    "version": 3
   },
   "file_extension": ".py",
   "mimetype": "text/x-python",
   "name": "python",
   "nbconvert_exporter": "python",
   "pygments_lexer": "ipython3",
   "version": "3.9.13"
  }
 },
 "nbformat": 4,
 "nbformat_minor": 5
}
